{
  "nbformat": 4,
  "nbformat_minor": 0,
  "metadata": {
    "colab": {
      "provenance": [],
      "include_colab_link": true
    },
    "kernelspec": {
      "name": "python3",
      "display_name": "Python 3"
    },
    "language_info": {
      "name": "python"
    }
  },
  "cells": [
    {
      "cell_type": "markdown",
      "metadata": {
        "id": "view-in-github",
        "colab_type": "text"
      },
      "source": [
        "<a href=\"https://colab.research.google.com/github/Shagun20/CSE508_Winter2023_A1_112/blob/main/IR_Assn1.ipynb\" target=\"_parent\"><img src=\"https://colab.research.google.com/assets/colab-badge.svg\" alt=\"Open In Colab\"/></a>"
      ]
    },
    {
      "cell_type": "code",
      "source": [
        "from google.colab import drive\n",
        "drive.mount('/content/drive')"
      ],
      "metadata": {
        "colab": {
          "base_uri": "https://localhost:8080/"
        },
        "id": "N8VoSw-v93at",
        "outputId": "0b133935-dff0-4bb7-cefb-0040839f4f70"
      },
      "execution_count": null,
      "outputs": [
        {
          "output_type": "stream",
          "name": "stdout",
          "text": [
            "Mounted at /content/drive\n"
          ]
        }
      ]
    },
    {
      "cell_type": "code",
      "source": [],
      "metadata": {
        "id": "mNqHy-iO3zDa"
      },
      "execution_count": null,
      "outputs": []
    },
    {
      "cell_type": "markdown",
      "source": [
        "Q1) Preprocessing \n",
        "  "
      ],
      "metadata": {
        "id": "5bTcIiLMvZQa"
      }
    },
    {
      "cell_type": "markdown",
      "source": [
        "PART (i)\n"
      ],
      "metadata": {
        "id": "mKy9hiqPvl_7"
      }
    },
    {
      "cell_type": "code",
      "execution_count": null,
      "metadata": {
        "id": "80Fg7hWNqU0F"
      },
      "outputs": [],
      "source": [
        "import os\n",
        "\n",
        "folder_path = '/content/drive/MyDrive/IR_AssnDatasets_Sem6/Assn1/CSE508_Winter2023_Dataset'\n",
        "\n",
        "\n",
        "for file_name in os.listdir(folder_path):\n",
        "    file_path = os.path.join(folder_path, file_name)\n",
        "    if os.path.isfile(file_path) and file_path.endswith('.txt'):\n",
        "        with open(file_path, 'r') as f:\n",
        "            file_content = f.read()\n",
        "            print(file_content)"
      ]
    },
    {
      "cell_type": "code",
      "source": [
        "import os\n",
        "\n",
        "docs= []\n",
        "folder_path = '/content/drive/MyDrive/IR_AssnDatasets_Sem6/Assn1/CSE508_Winter2023_Dataset'\n",
        "for file_name in os.listdir(folder_path):\n",
        "    file_path = os.path.join(folder_path, file_name)\n",
        "    if os.path.isfile(file_path):\n",
        "        with open(file_path, 'rb') as f:\n",
        "            file_content = f.read()\n",
        "            file_content = str(file_content, 'UTF-8')\n",
        "            docs.append(file_content)"
      ],
      "metadata": {
        "id": "C7vdiAiIyRJu"
      },
      "execution_count": null,
      "outputs": []
    },
    {
      "cell_type": "code",
      "source": [
        "docs"
      ],
      "metadata": {
        "id": "B65m0EGCzAIN"
      },
      "execution_count": null,
      "outputs": []
    },
    {
      "cell_type": "code",
      "source": [
        "sample_before= (docs[2], docs[3], docs[878], docs[332], docs[1200])\n",
        "len(sample_before)"
      ],
      "metadata": {
        "colab": {
          "base_uri": "https://localhost:8080/"
        },
        "id": "2OnhhRbqCvEM",
        "outputId": "2cfba1f6-f872-4104-fa25-10e21ac716ad"
      },
      "execution_count": null,
      "outputs": [
        {
          "output_type": "execute_result",
          "data": {
            "text/plain": [
              "5"
            ]
          },
          "metadata": {},
          "execution_count": 5
        }
      ]
    },
    {
      "cell_type": "code",
      "source": [
        "def extract_content(file_content):\n",
        "    start_title_index = file_content.find('<TITLE>') + len('<TITLE>')\n",
        "    end_title_index = file_content.find('</TITLE>')\n",
        "    title = file_content[start_title_index:end_title_index].strip()\n",
        "    \n",
        "    start_text_index = file_content.find('<TEXT>') + len('<TEXT>')\n",
        "    end_text_index = file_content.find('</TEXT>')\n",
        "    text = file_content[start_text_index:end_text_index].strip()\n",
        "    \n",
        "    combined_content = title + ' ' + text\n",
        "    return combined_content\n"
      ],
      "metadata": {
        "id": "7rlD_vzJzMo4"
      },
      "execution_count": null,
      "outputs": []
    },
    {
      "cell_type": "code",
      "source": [
        "extracted_content= []\n",
        "for i in docs:\n",
        "  file_content = i\n",
        "  combined_content = extract_content(file_content)\n",
        "  extracted_content.append(combined_content)\n",
        "  "
      ],
      "metadata": {
        "id": "YRPBhj5t-QCl"
      },
      "execution_count": null,
      "outputs": []
    },
    {
      "cell_type": "code",
      "source": [
        "len(extracted_content)"
      ],
      "metadata": {
        "id": "OtSFVoSg_TWi",
        "colab": {
          "base_uri": "https://localhost:8080/"
        },
        "outputId": "e9c05770-c108-49c0-91d1-f74ee7f5f703"
      },
      "execution_count": null,
      "outputs": [
        {
          "output_type": "execute_result",
          "data": {
            "text/plain": [
              "1400"
            ]
          },
          "metadata": {},
          "execution_count": 8
        }
      ]
    },
    {
      "cell_type": "code",
      "source": [
        "sample_after= (extracted_content[2], extracted_content[3], extracted_content[878], extracted_content[332], extracted_content[1200])"
      ],
      "metadata": {
        "id": "d9rd7TXPDHIq"
      },
      "execution_count": null,
      "outputs": []
    },
    {
      "cell_type": "code",
      "source": [
        "for i in range(5):\n",
        "  print(\"Sample \" + str(i) + \" before: \" + sample_before[i])\n",
        "  print()\n",
        "  print(\"Sample \" + str(i) + \" after: \" + sample_after[i])\n",
        "  print(\" ---------------------------------------------------------------------------------------------------------------------------------  -\")"
      ],
      "metadata": {
        "id": "7Ka0XWb7_8PU"
      },
      "execution_count": null,
      "outputs": []
    },
    {
      "cell_type": "markdown",
      "source": [
        "Q1) (ii) Pre processing\n"
      ],
      "metadata": {
        "id": "mt6VAoqZNDC7"
      }
    },
    {
      "cell_type": "code",
      "source": [
        "import string\n",
        "import nltk\n",
        "nltk.download('stopwords')\n",
        "nltk.download('punkt')\n",
        "from nltk.corpus import stopwords\n",
        "\n",
        "def preprocess(text):\n",
        "    # Lowercase the text\n",
        "    text = text.lower()\n",
        "    print()\n",
        "    \n",
        "    # Perform tokenization\n",
        "    tokens = nltk.word_tokenize(text)\n",
        "    \n",
        "    # Remove stopwords\n",
        "    stop_words = set(stopwords.words(\"english\"))\n",
        "    tokens = [token for token in tokens if token not in stop_words]\n",
        "    \n",
        "    # Remove punctuations\n",
        "    punc_removed = [token.translate(str.maketrans(\"\", \"\", string.punctuation)) for token in tokens]\n",
        "    \n",
        "    # Remove blank space tokens\n",
        "    tokens = [token for token in punc_removed if token.strip()]\n",
        "    \n",
        "    return tokens"
      ],
      "metadata": {
        "id": "h5loqBQOMjtX"
      },
      "execution_count": null,
      "outputs": []
    },
    {
      "cell_type": "code",
      "source": [
        "type(extracted_content[0])"
      ],
      "metadata": {
        "id": "cJF9KnSfOEWc",
        "colab": {
          "base_uri": "https://localhost:8080/"
        },
        "outputId": "dec1e8ce-c0d8-468f-eb4d-510a3478faaf"
      },
      "execution_count": null,
      "outputs": [
        {
          "output_type": "execute_result",
          "data": {
            "text/plain": [
              "str"
            ]
          },
          "metadata": {},
          "execution_count": 12
        }
      ]
    },
    {
      "cell_type": "code",
      "source": [
        "# Example usage\n",
        "preproData= []\n",
        "for i in extracted_content:\n",
        "  text= i\n",
        "  tokens = preprocess(text)  \n",
        "  preproData.append(tokens)\n"
      ],
      "metadata": {
        "id": "FJec-IqSNSSZ"
      },
      "execution_count": null,
      "outputs": []
    },
    {
      "cell_type": "code",
      "source": [
        "preproData[0]"
      ],
      "metadata": {
        "id": "y0NhN-otNxDj"
      },
      "execution_count": null,
      "outputs": []
    },
    {
      "cell_type": "markdown",
      "source": [
        "Q2) BOOLEAN QUERIES\n"
      ],
      "metadata": {
        "id": "lwvJTmbAwJ13"
      }
    },
    {
      "cell_type": "code",
      "source": [
        "len(preproData)"
      ],
      "metadata": {
        "colab": {
          "base_uri": "https://localhost:8080/"
        },
        "id": "YCEP2l45wJTF",
        "outputId": "aa0df250-626b-4be1-f350-33bd8a3656cd"
      },
      "execution_count": null,
      "outputs": [
        {
          "output_type": "execute_result",
          "data": {
            "text/plain": [
              "1400"
            ]
          },
          "metadata": {},
          "execution_count": 15
        }
      ]
    },
    {
      "cell_type": "code",
      "source": [
        "list_freq = []\n",
        "for i in preproData:\n",
        "  word_freq = {}\n",
        "  for word in i:\n",
        "      if word in word_freq:\n",
        "          word_freq[word] += 1\n",
        "      else:\n",
        "          word_freq[word] = 1\n",
        "  list_freq.append(word_freq)"
      ],
      "metadata": {
        "id": "_jgrK6z_wcZm"
      },
      "execution_count": null,
      "outputs": []
    },
    {
      "cell_type": "code",
      "source": [
        "list_freq[4]"
      ],
      "metadata": {
        "id": "1gY5FYtBxHmk"
      },
      "execution_count": null,
      "outputs": []
    },
    {
      "cell_type": "code",
      "source": [
        "inverted_index = {}\n",
        "count=0\n",
        "for k in range(len(list_freq)):\n",
        "  count+=1\n",
        "\n",
        "  for i, doc in enumerate(list_freq[k]):\n",
        "\n",
        "    \n",
        "    for word in doc.split():\n",
        "        if word in inverted_index:\n",
        "            inverted_index[word].append(i)\n",
        "        else:\n",
        "            inverted_index[word] = [i]\n",
        "\n",
        "# inverted_index = dict(sorted(inverted_index.items()))\n",
        "print(count)"
      ],
      "metadata": {
        "colab": {
          "base_uri": "https://localhost:8080/"
        },
        "id": "9tu1CW33yEUy",
        "outputId": "b234ec55-803f-4afd-b7a3-e4d6c0082292"
      },
      "execution_count": null,
      "outputs": [
        {
          "output_type": "stream",
          "name": "stdout",
          "text": [
            "1400\n"
          ]
        }
      ]
    },
    {
      "cell_type": "code",
      "source": [
        "inverted_index['local']"
      ],
      "metadata": {
        "id": "RmXGx7yTylAy"
      },
      "execution_count": null,
      "outputs": []
    },
    {
      "cell_type": "code",
      "source": [
        "import pickle\n",
        "with open(\"inverted_index.pickle\", \"wb\") as handle:\n",
        "    pickle.dump(inverted_index, handle, protocol=pickle.HIGHEST_PROTOCOL)"
      ],
      "metadata": {
        "id": "hcBtwAeI04_k"
      },
      "execution_count": null,
      "outputs": []
    },
    {
      "cell_type": "code",
      "source": [
        "def intersection(list1, list2):\n",
        "    \"\"\"Helper function to perform the intersection of two lists.\"\"\"\n",
        "    i = j = 0\n",
        "    result = []\n",
        "    while i < len(list1) and j < len(list2):\n",
        "        if list1[i] == list2[j]:\n",
        "            result.append(list1[i])\n",
        "            i += 1\n",
        "            j += 1\n",
        "        elif list1[i] < list2[j]:\n",
        "            i += 1\n",
        "        else:\n",
        "            j += 1\n",
        "    return result\n",
        "\n",
        "def union(list1, list2):\n",
        "    \"\"\"Helper function to perform the union of two lists.\"\"\"\n",
        "    i = j = 0\n",
        "    result = []\n",
        "    while i < len(list1) and j < len(list2):\n",
        "        if list1[i] == list2[j]:\n",
        "            result.append(list1[i])\n",
        "            i += 1\n",
        "            j += 1\n",
        "        elif list1[i] < list2[j]:\n",
        "            result.append(list1[i])\n",
        "            i += 1\n",
        "        else:\n",
        "            result.append(list2[j])\n",
        "            j += 1\n",
        "    result += list1[i:] + list2[j:]\n",
        "    return result\n",
        "\n",
        "def difference(list1, list2):\n",
        "    \"\"\"Helper function to perform the difference of two lists.\"\"\"\n",
        "    i = j = 0\n",
        "    result = []\n",
        "    while i < len(list1) and j < len(list2):\n",
        "        if list1[i] == list2[j]:\n",
        "            i += 1\n",
        "            j += 1\n",
        "        elif list1[i] < list2[j]:\n",
        "            result.append(list1[i])\n",
        "            i += 1\n",
        "        else:\n",
        "            j += 1\n",
        "    result += list1[i:]\n",
        "    return result"
      ],
      "metadata": {
        "id": "4si5aZtK4mm7"
      },
      "execution_count": null,
      "outputs": []
    },
    {
      "cell_type": "markdown",
      "source": [
        "**Pickle Code**"
      ],
      "metadata": {
        "id": "Cvmkqz7e2-yQ"
      }
    },
    {
      "cell_type": "code",
      "source": [
        "import pickle\n",
        "\n",
        "#Save function\n",
        "def save(index, file_name):\n",
        "  # Save the index to file\n",
        "  with open(file_name, \"wb\") as f:\n",
        "    pickle.dump(index, f)\n",
        "\n",
        "#Load function\n",
        "def load(file_name):\n",
        "  # Load the positional index from the file\n",
        "  with open(file_name, \"rb\") as f:\n",
        "    loaded_index = pickle.load(f)\n",
        "  return loaded_index\n"
      ],
      "metadata": {
        "id": "iBDBl3YRz3qT"
      },
      "execution_count": null,
      "outputs": []
    },
    {
      "cell_type": "markdown",
      "source": [
        "**Q3 i) Biword Inverted Index**"
      ],
      "metadata": {
        "id": "PP8dTTWC32Fp"
      }
    },
    {
      "cell_type": "code",
      "source": [
        "def biword_inverted_index(preproData):\n",
        "  #creating inverted index using dictionary with biwords as keys and doc Ids as values\n",
        "  bw_invertindex = {}\n",
        "\n",
        "  for id, li in enumerate(preproData):\n",
        "    for i in range(len(li)-1):\n",
        "      biwords = [li[i] + ' ' + li[i+1]]\n",
        "      for bword in biwords:\n",
        "          if bword in bw_invertindex:\n",
        "            bw_invertindex[bword].add(id)\n",
        "          else:\n",
        "            bw_invertindex[bword] = {id}\n",
        "\n",
        "    return bw_invertindex"
      ],
      "metadata": {
        "id": "2iHGYSlRhz99"
      },
      "execution_count": null,
      "outputs": []
    },
    {
      "cell_type": "code",
      "source": [
        "final_bw_invertindex = biword_inverted_index(preproData)\n",
        "len(final_bw_invertindex)"
      ],
      "metadata": {
        "id": "aoU2TG4pkwe6",
        "colab": {
          "base_uri": "https://localhost:8080/"
        },
        "outputId": "6500ca3d-638d-4a75-9da4-2265a6a42e8d"
      },
      "execution_count": null,
      "outputs": [
        {
          "output_type": "execute_result",
          "data": {
            "text/plain": [
              "75"
            ]
          },
          "metadata": {},
          "execution_count": 34
        }
      ]
    },
    {
      "cell_type": "code",
      "source": [
        "biword_inverted_index(preproData)\n"
      ],
      "metadata": {
        "id": "WmgvqoapZK1o"
      },
      "execution_count": null,
      "outputs": []
    },
    {
      "cell_type": "markdown",
      "source": [
        "**Q3 ii**) Positional Index\n"
      ],
      "metadata": {
        "id": "X0PwEqjq3EAo"
      }
    },
    {
      "cell_type": "code",
      "source": [
        "def sort_index(pos_index):\n",
        "  myKeys = list(pos_index.keys())\n",
        "  myKeys.sort()\n",
        "  sorted_pos_index = {i: pos_index[i] for i in myKeys}\n",
        "  return sorted_pos_index"
      ],
      "metadata": {
        "id": "K13xTY2-8cmd"
      },
      "execution_count": null,
      "outputs": []
    },
    {
      "cell_type": "code",
      "source": [
        "def positional_index(sample):\n",
        "\n",
        "  # Initialize the file no.\n",
        "  fileno = 0\n",
        " \n",
        "  # Initialize the dictionary.\n",
        "  pos_index = {}\n",
        "  doc_id=-1\n",
        "  for doc in sample:\n",
        "    doc_id+=1\n",
        "    init_pos=0\n",
        "    for word in doc:\n",
        "      init_pos+=1\n",
        "      if word in pos_index:\n",
        "        doc_list=pos_index[word]\n",
        "        if doc_id in doc_list:\n",
        "          pos_list=doc_list[doc_id]\n",
        "          pos_list.append(init_pos)\n",
        "          doc_list[doc_id]=pos_list\n",
        "\n",
        "        else:\n",
        "          pos_list=[]\n",
        "          pos_list.append(init_pos)\n",
        "          doc_list[doc_id]=pos_list \n",
        "        pos_index[word]= doc_list        \n",
        "\n",
        "\n",
        "      else:\n",
        "        doc_list={}\n",
        "        pos_list=[]\n",
        "        pos_list.append(init_pos)\n",
        "        doc_list[doc_id]=pos_list \n",
        "        pos_index[word]= doc_list\n",
        "\n",
        "     \n",
        "  return sort_index(pos_index)  \n",
        "      \n"
      ],
      "metadata": {
        "id": "IvEOEWBW8m8Q"
      },
      "execution_count": null,
      "outputs": []
    },
    {
      "cell_type": "code",
      "source": [
        "final_index=positional_index(preproData)\n",
        "len(final_index)"
      ],
      "metadata": {
        "colab": {
          "base_uri": "https://localhost:8080/"
        },
        "id": "B3fbWd1K8vkr",
        "outputId": "0771e1ac-625c-4878-e67b-5947d4ce6948"
      },
      "execution_count": null,
      "outputs": [
        {
          "output_type": "execute_result",
          "data": {
            "text/plain": [
              "8996"
            ]
          },
          "metadata": {},
          "execution_count": 29
        }
      ]
    },
    {
      "cell_type": "code",
      "source": [
        "#Save and Load the index\n",
        "save( final_index, \"pos_index.pkl\")\n",
        "loaded_index=load(\"pos_index.pkl\")\n",
        "print(len(loaded_index))"
      ],
      "metadata": {
        "colab": {
          "base_uri": "https://localhost:8080/"
        },
        "id": "gc-M2O8d9LWa",
        "outputId": "436f5aa1-1170-424a-f181-a3c4545df7c2"
      },
      "execution_count": null,
      "outputs": [
        {
          "output_type": "stream",
          "name": "stdout",
          "text": [
            "8996\n"
          ]
        }
      ]
    },
    {
      "cell_type": "markdown",
      "source": [
        "**Q3 iii) Run Phrase Queries and Compare**"
      ],
      "metadata": {
        "id": "a2dyTB5S-z2U"
      }
    },
    {
      "cell_type": "code",
      "source": [
        "def execute_query_positional(c1):\n",
        "  return\n"
      ],
      "metadata": {
        "id": "sFoKXqwSAwvU"
      },
      "execution_count": null,
      "outputs": []
    },
    {
      "cell_type": "code",
      "source": [
        "t=int(input())\n",
        "for i in range(t):\n",
        "  c1=input()\n",
        "  tokens=preprocess(c1)\n",
        "  #execute_query_bigram(c1)\n",
        "  \n",
        "  #execute_query_positional(c1)\n",
        "\n"
      ],
      "metadata": {
        "id": "6_ppu-Ik-v09"
      },
      "execution_count": null,
      "outputs": []
    },
    {
      "cell_type": "code",
      "source": [
        "def execute_query_bigram():\n",
        "  "
      ],
      "metadata": {
        "id": "rd-H5kOxHIWp"
      },
      "execution_count": null,
      "outputs": []
    }
  ]
}